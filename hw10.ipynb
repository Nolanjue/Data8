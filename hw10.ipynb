{
 "cells": [
  {
   "cell_type": "code",
   "execution_count": 185,
   "id": "f4d1c9d7",
   "metadata": {
    "deletable": false,
    "editable": false
   },
   "outputs": [],
   "source": [
    "# Initialize Otter\n",
    "import otter\n",
    "grader = otter.Notebook(\"hw10.ipynb\")"
   ]
  },
  {
   "cell_type": "markdown",
   "id": "4c7d35ae",
   "metadata": {},
   "source": [
    "# Homework 10: Regression Inference"
   ]
  },
  {
   "cell_type": "markdown",
   "id": "0f5bab9e",
   "metadata": {},
   "source": [
    "**Helpful Resource:**\n",
    "\n",
    "- [Python Reference](http://data8.org/su22/python-reference.html): Cheat sheet of helpful array & table methods used in Data 8!\n",
    "\n",
    "**Recommended Reading**: \n",
    "\n",
    "* [Using Confidence Intervals](https://inferentialthinking.com/chapters/13/4/Using_Confidence_Intervals.html)\n",
    "* [The Regression Line](https://inferentialthinking.com/chapters/15/2/Regression_Line.html#the-regression-line-in-standard-units)\n",
    "* [Inference for Regression](https://www.inferentialthinking.com/chapters/16/Inference_for_Regression.html)"
   ]
  },
  {
   "cell_type": "markdown",
   "id": "91e48fa3",
   "metadata": {},
   "source": [
    "Please complete this notebook by filling in the cells provided. Before you begin, execute the following cell to setup the notebook by importing some helpful libraries. Each time you start your server, you will need to execute this cell again.\n",
    "\n",
    "For all problems that you must write explanations and sentences for, you **must** provide your answer in the designated space. **Moreover, throughout this homework and all future ones, please be sure to not re-assign variables throughout the notebook!** For example, if you use `max_temperature` in your answer to one question, do not reassign it later on. Otherwise, you will fail tests that you thought you were passing previously!\n",
    "\n",
    "**Deadline:**\n",
    "\n",
    "This assignment is due **Tuesday, 8/2 at 11:59pm PT**. Turn it in by Monday, 8/1 at 11:59pm PT for 5 extra credit points. Late work will not be accepted as per the [policies](http://data8.org/su22/policies.html) page.\n",
    "\n",
    "**Note: This homework has hidden tests on it. That means even though tests may say 100% passed, it doesn't mean your final grade will be 100%. We will be running more tests for correctness once everyone turns in the homework.**\n",
    "\n",
    "Directly sharing answers is not okay, but discussing problems with the course staff or with other students is encouraged. Refer to the policies page to learn more about how to learn cooperatively.\n",
    "\n",
    "You should start early so that you have time to get help if you're stuck. The OH schedule appears on [http://data8.org/su22/office-hours.html](http://data8.org/su22/office-hours.html)."
   ]
  },
  {
   "cell_type": "code",
   "execution_count": 186,
   "id": "d774f1a3",
   "metadata": {},
   "outputs": [],
   "source": [
    "# Don't change this cell; just run it. \n",
    "\n",
    "import numpy as np\n",
    "from datascience import *\n",
    "import d8error\n",
    "\n",
    "# These lines do some fancy plotting magic\n",
    "import matplotlib\n",
    "%matplotlib inline\n",
    "import matplotlib.pyplot as plt\n",
    "plt.style.use('fivethirtyeight')\n",
    "import warnings\n",
    "warnings.simplefilter('ignore')\n",
    "from datetime import datetime"
   ]
  },
  {
   "cell_type": "markdown",
   "id": "cecc7d60",
   "metadata": {},
   "source": [
    "## An Introduction to Regression Inference"
   ]
  },
  {
   "cell_type": "markdown",
   "id": "4c1b759b",
   "metadata": {},
   "source": [
    "Previously in this class, we've used confidence intervals to quantify uncertainty about estimates. We can also run hypothesis tests using a confidence interval under the following procedure:\n",
    "\n",
    "1. Define a null and alternative hypothesis (they must be of the form \"The parameter is X\" and \"The parameter is not X\").\n",
    "2. Choose a p-value cutoff, and call it $q$.\n",
    "3. Construct a $(100-q)\\%$ interval using bootstrap sampling (for example, if your p-value cutoff is 0.01, or 1%, then construct a 99% confidence interval).\n",
    "4. Using the confidence interval, determine if your data are more consistent with your null or alternative hypothesis:\n",
    "   * If the null hypothesis parameter X is in your confidence interval, the data are more consistent with the null hypothesis.\n",
    "   * If the null hypothesis parameter X is *not* in your confidence interval, the data are more consistent with the alternative hypothesis.\n",
    "\n",
    "More recently, we've discussed the use of linear regression to make predictions based on correlated variables. For example, we can predict the height of children based on the heights of their parents.\n",
    "\n",
    "We can combine these two topics to make powerful statements about our population by using the following techniques:\n",
    "\n",
    "- Bootstrapped interval for the true slope\n",
    "- Bootstrapped prediction interval for y (given a particular value of x)\n",
    "\n",
    "This homework explores these two methods."
   ]
  },
  {
   "cell_type": "markdown",
   "id": "e35367c5",
   "metadata": {},
   "source": [
    "## The Data\n",
    "The [Snowy Plover](https://www.audubon.org/field-guide/bird/snowy-plover) is a tiny bird that lives on the coast in parts of California and elsewhere. It is so small that it is vulnerable to many predators, including people and dogs that don't look where they are stepping when they go to the beach. It is considered endangered in many parts of the U.S.\n",
    "\n",
    "The data are about the eggs and newly-hatched chicks of the Snowy Plover. Here's a picture of [a parent bird incubating its eggs](http://cescos.fau.edu/jay/eps/articles/snowyplover.html).\n",
    "\n",
    "<img src=\"plover_and_eggs.jpeg\" alt=\"Plover and Eggs\">\n",
    "\n",
    "The data were collected at the Point Reyes National Seashore by a former [student at Berkeley](https://openlibrary.org/books/OL2038693M/BLSS_the_Berkeley_interactive_statistical_system). The goal was to see how the size of an egg could be used to predict the weight of the resulting chick. The bigger the newly-hatched chick, the more likely it is to survive.\n",
    "\n",
    "<img src=\"plover_and_chick.jpeg\" alt=\"Plover and Chick\">\n",
    "\n",
    "Each row of the table below corresponds to one Snowy Plover egg and the resulting chick. Note how tiny the bird is:\n",
    "\n",
    "- `Egg Length` and `Egg Breadth` (widest diameter) are measured in millimeters\n",
    "- `Egg Weight` and `Bird Weight` are measured in grams; for comparison, a standard paper clip weighs about one gram"
   ]
  },
  {
   "cell_type": "code",
   "execution_count": 187,
   "id": "047a7361",
   "metadata": {},
   "outputs": [
    {
     "data": {
      "text/html": [
       "<table border=\"1\" class=\"dataframe\">\n",
       "    <thead>\n",
       "        <tr>\n",
       "            <th>Egg Length</th> <th>Egg Breadth</th> <th>Egg Weight</th> <th>Bird Weight</th>\n",
       "        </tr>\n",
       "    </thead>\n",
       "    <tbody>\n",
       "        <tr>\n",
       "            <td>28.8      </td> <td>21.84      </td> <td>7.4       </td> <td>5.2        </td>\n",
       "        </tr>\n",
       "        <tr>\n",
       "            <td>29.04     </td> <td>22.45      </td> <td>7.7       </td> <td>5.4        </td>\n",
       "        </tr>\n",
       "        <tr>\n",
       "            <td>29.36     </td> <td>22.48      </td> <td>7.9       </td> <td>5.6        </td>\n",
       "        </tr>\n",
       "        <tr>\n",
       "            <td>30.1      </td> <td>21.71      </td> <td>7.5       </td> <td>5.3        </td>\n",
       "        </tr>\n",
       "        <tr>\n",
       "            <td>30.17     </td> <td>22.75      </td> <td>8.3       </td> <td>5.9        </td>\n",
       "        </tr>\n",
       "        <tr>\n",
       "            <td>30.34     </td> <td>22.84      </td> <td>8.5       </td> <td>5.8        </td>\n",
       "        </tr>\n",
       "        <tr>\n",
       "            <td>30.36     </td> <td>22.5       </td> <td>8.2       </td> <td>5.8        </td>\n",
       "        </tr>\n",
       "        <tr>\n",
       "            <td>30.46     </td> <td>22.72      </td> <td>8.3       </td> <td>6          </td>\n",
       "        </tr>\n",
       "        <tr>\n",
       "            <td>30.54     </td> <td>23.31      </td> <td>9         </td> <td>6.1        </td>\n",
       "        </tr>\n",
       "        <tr>\n",
       "            <td>30.62     </td> <td>22.94      </td> <td>8.5       </td> <td>6.2        </td>\n",
       "        </tr>\n",
       "    </tbody>\n",
       "</table>\n",
       "<p>... (34 rows omitted)</p>"
      ],
      "text/plain": [
       "Egg Length | Egg Breadth | Egg Weight | Bird Weight\n",
       "28.8       | 21.84       | 7.4        | 5.2\n",
       "29.04      | 22.45       | 7.7        | 5.4\n",
       "29.36      | 22.48       | 7.9        | 5.6\n",
       "30.1       | 21.71       | 7.5        | 5.3\n",
       "30.17      | 22.75       | 8.3        | 5.9\n",
       "30.34      | 22.84       | 8.5        | 5.8\n",
       "30.36      | 22.5        | 8.2        | 5.8\n",
       "30.46      | 22.72       | 8.3        | 6\n",
       "30.54      | 23.31       | 9          | 6.1\n",
       "30.62      | 22.94       | 8.5        | 6.2\n",
       "... (34 rows omitted)"
      ]
     },
     "execution_count": 187,
     "metadata": {},
     "output_type": "execute_result"
    }
   ],
   "source": [
    "birds = Table.read_table('snowy_plover.csv')\n",
    "birds"
   ]
  },
  {
   "cell_type": "markdown",
   "id": "caef7fd2",
   "metadata": {},
   "source": [
    "In this investigation, we will be using the egg weight to predict bird weight. Run the cell below to create a scatter plot of the egg weights and bird weights, along with their line of best fit."
   ]
  },
  {
   "cell_type": "code",
   "execution_count": 188,
   "id": "8924b4c0",
   "metadata": {},
   "outputs": [
    {
     "data": {
      "image/png": "[encoded data removed]",
      "text/plain": [
       "<Figure size 360x360 with 1 Axes>"
      ]
     },
     "metadata": {},
     "output_type": "display_data"
    }
   ],
   "source": [
    "# Just run this cell and examine the scatter plot.\n",
    "birds.scatter('Egg Weight', \"Bird Weight\", fit_line=True)"
   ]
  },
  {
   "cell_type": "markdown",
   "id": "d5051fda",
   "metadata": {},
   "source": [
    "## 1. Finding the Bootstrap Confidence Interval for the True Slope\n",
    "\n",
    "Looking at the scatter plot of our sample, we observe a linear relationship between egg weight and bird weight. However, relationships that appear in a sample might not exist in the population from which the sample was taken.\n",
    "\n",
    "We want to know if there truly exists a linear relationship between egg weight and bird weight for Snowy Plovers. If there is no linear relationship between the two variables, then we'd expect a correlation of 0. Consequently, the slope of the regression line would also be 0. "
   ]
  },
  {
   "cell_type": "markdown",
   "id": "29645dfe",
   "metadata": {
    "deletable": false,
    "editable": false
   },
   "source": [
    "<!-- BEGIN QUESTION -->\n",
    "\n",
    "**Question 1.1.** Let's run a hypothesis test using confidence intervals to see if there is a linear relationship between egg weight and bird weight. Define the null and alternative hypotheses that will allow you to conduct this test. **(8 points)**\n",
    "\n",
    "*Note:* Please write your answer **in the cell below** in the following format:\n",
    "- **Null Hypothesis:**\n",
    "- **Alternative Hypothesis:**\n",
    "\n",
    "\n",
    "\n",
    "<!--\n",
    "BEGIN QUESTION\n",
    "name: q1_1\n",
    "manual: true\n",
    "-->"
   ]
  },
  {
   "cell_type": "markdown",
   "id": "98b03636",
   "metadata": {},
   "source": [
    "Null Hypothesis: r = 0\n",
    "Alternative hypothesis: r != 0"
   ]
  },
  {
   "cell_type": "markdown",
   "id": "be15e964",
   "metadata": {
    "deletable": false,
    "editable": false
   },
   "source": [
    "<!-- END QUESTION -->\n",
    "\n",
    "**Question 1.2.** Define the following two functions:\n",
    "\n",
    "1. `standard_units`: This function takes in an array of numbers and returns an array containing those numbers converted to standard units.\n",
    "2. `correlation`: This function takes in a table and two column names (one for *x* and one for *y*) and returns the correlation between these columns. \n",
    "\n",
    "**(8 points)**\n",
    "\n",
    "<!--\n",
    "BEGIN QUESTION\n",
    "name: q1_2\n",
    "manual: false\n",
    "points:\n",
    " - 0\n",
    " - 4\n",
    " - 4\n",
    "-->"
   ]
  },
  {
   "cell_type": "code",
   "execution_count": 189,
   "id": "69adbcbb",
   "metadata": {
    "ExecuteTime": {
     "end_time": "2018-04-11T12:05:50.894154Z",
     "start_time": "2018-04-11T12:05:50.889145Z"
    },
    "deletable": false
   },
   "outputs": [],
   "source": [
    "def standard_units(arr):\n",
    "    su = (arr - np.mean(arr)) / np.std(arr)\n",
    "    return su\n",
    "def correlation(tbl, x_col, y_col):\n",
    "    corr = np.mean(standard_units(tbl.column(x_col)) * standard_units(tbl.column(y_col)))\n",
    "    return corr"
   ]
  },
  {
   "cell_type": "code",
   "execution_count": 190,
   "id": "9c9b6b61",
   "metadata": {
    "deletable": false,
    "editable": false
   },
   "outputs": [
    {
     "data": {
      "text/html": [
       "<p><strong><pre style='display: inline;'>q1_2</pre></strong> passed!</p>"
      ],
      "text/plain": [
       "q1_2 results: All test cases passed!"
      ]
     },
     "execution_count": 190,
     "metadata": {},
     "output_type": "execute_result"
    }
   ],
   "source": [
    "grader.check(\"q1_2\")"
   ]
  },
  {
   "cell_type": "markdown",
   "id": "d4f55c57",
   "metadata": {
    "deletable": false,
    "editable": false
   },
   "source": [
    "**Question 1.3.** Using the functions you just implemented, create a function called `fit_line`.  It should take a table like `birds` and the column names associated to *x* and *y* as its arguments and return an *array* containing the slope and intercept of the regression line (in that order) that predicts the *y* column in the table using the *x* column. **(8 points)**\n",
    "\n",
    "<!--\n",
    "BEGIN QUESTION\n",
    "name: q1_3\n",
    "manual: false\n",
    "points:\n",
    " - 0\n",
    " - 0\n",
    " - 2\n",
    " - 6\n",
    "-->"
   ]
  },
  {
   "cell_type": "code",
   "execution_count": 191,
   "id": "9333d1f7",
   "metadata": {
    "ExecuteTime": {
     "end_time": "2018-04-11T12:05:51.483516Z",
     "start_time": "2018-04-11T12:05:51.472484Z"
    },
    "for_assignment_type": "solution"
   },
   "outputs": [
    {
     "data": {
      "text/plain": [
       "array([ 0.71851534, -0.05827226])"
      ]
     },
     "execution_count": 191,
     "metadata": {},
     "output_type": "execute_result"
    }
   ],
   "source": [
    "def fit_line(tbl, x_col, y_col):\n",
    "    slope = correlation(tbl, x_col, y_col) * np.std(tbl.column(y_col))/np.std(tbl.column(x_col))\n",
    "    intercept = np.mean(tbl.column(y_col)) - slope * np.mean(tbl.column(x_col))\n",
    "    return make_array(slope, intercept)\n",
    "\n",
    "fit_line(birds, \"Egg Weight\", \"Bird Weight\")"
   ]
  },
  {
   "cell_type": "code",
   "execution_count": 192,
   "id": "1cfbcf6b",
   "metadata": {
    "deletable": false,
    "editable": false
   },
   "outputs": [
    {
     "data": {
      "text/html": [
       "<p><strong><pre style='display: inline;'>q1_3</pre></strong> passed!</p>"
      ],
      "text/plain": [
       "q1_3 results: All test cases passed!"
      ]
     },
     "execution_count": 192,
     "metadata": {},
     "output_type": "execute_result"
    }
   ],
   "source": [
    "grader.check(\"q1_3\")"
   ]
  },
  {
   "cell_type": "markdown",
   "id": "98fbcd8c",
   "metadata": {},
   "source": [
    "**Run** this cell to plot the line produced by calling `fit_line` on the `birds` table.  \n",
    "\n",
    "**Note:** You are not responsible for the code in the cell below, but make sure that your `fit_line` function generated a reasonable line for the data."
   ]
  },
  {
   "cell_type": "code",
   "execution_count": 193,
   "id": "7edb2727",
   "metadata": {
    "ExecuteTime": {
     "end_time": "2018-04-11T12:05:51.754766Z",
     "start_time": "2018-04-11T12:05:51.624390Z"
    }
   },
   "outputs": [
    {
     "data": {
      "image/png": "[encoded data removed]",
      "text/plain": [
       "<Figure size 360x360 with 1 Axes>"
      ]
     },
     "metadata": {},
     "output_type": "display_data"
    }
   ],
   "source": [
    "# Ensure your fit_line function fits a reasonable line \n",
    "# to the data in birds, using the plot below.\n",
    "\n",
    "# Just run this cell\n",
    "slope, intercept = fit_line(birds, \"Egg Weight\", \"Bird Weight\")\n",
    "birds.scatter(\"Egg Weight\", \"Bird Weight\")\n",
    "plt.plot([min(birds.column(\"Egg Weight\")), max(birds.column(\"Egg Weight\"))], \n",
    "         [slope*min(birds.column(\"Egg Weight\"))+intercept, slope*max(birds.column(\"Egg Weight\"))+intercept])\n",
    "plt.show()"
   ]
  },
  {
   "cell_type": "markdown",
   "id": "723e5644",
   "metadata": {},
   "source": [
    "Now we have all the tools we need to create a confidence interval that quantifies our uncertainty about the true relationship between egg weight and bird weight."
   ]
  },
  {
   "cell_type": "markdown",
   "id": "db65cac4",
   "metadata": {
    "deletable": false,
    "editable": false
   },
   "source": [
    "<!-- BEGIN QUESTION -->\n",
    "\n",
    "**Question 1.4.** Create an array called `resampled_slopes` that contains the slope of the best fit line for 1000 bootstrap resamples of `birds`. Plot the distribution of these slopes. **(8 points)**\n",
    "\n",
    "<!--\n",
    "BEGIN QUESTION\n",
    "name: q1_4\n",
    "manual: true\n",
    "image: true\n",
    "-->"
   ]
  },
  {
   "cell_type": "code",
   "execution_count": 194,
   "id": "548adf11",
   "metadata": {
    "for_assignment_type": "solution"
   },
   "outputs": [
    {
     "data": {
      "image/png": "[encoded data removed]",
      "text/plain": [
       "<Figure size 432x288 with 1 Axes>"
      ]
     },
     "metadata": {},
     "output_type": "display_data"
    }
   ],
   "source": [
    "resampled_slopes = make_array()\n",
    "\n",
    "for i in np.arange(1000): \n",
    "    birds_bootstrap = birds.sample()\n",
    "    bootstrap_line = fit_line(birds_bootstrap, \"Egg Weight\", \"Bird Weight\")\n",
    "    bootstrap_slope = bootstrap_line.item(0)\n",
    "    resampled_slopes = np.append(resampled_slopes, bootstrap_slope)\n",
    "    \n",
    "# DO NOT CHANGE THIS LINE\n",
    "Table().with_column(\"Slope estimate\", resampled_slopes).hist()"
   ]
  },
  {
   "cell_type": "code",
   "execution_count": 195,
   "id": "51eea03c",
   "metadata": {
    "deletable": false,
    "editable": false
   },
   "outputs": [
    {
     "data": {
      "text/html": [
       "<p><strong><pre style='display: inline;'>q1_4</pre></strong> passed!</p>"
      ],
      "text/plain": [
       "q1_4 results: All test cases passed!"
      ]
     },
     "execution_count": 195,
     "metadata": {},
     "output_type": "execute_result"
    }
   ],
   "source": [
    "grader.check(\"q1_4\")"
   ]
  },
  {
   "cell_type": "markdown",
   "id": "65755975",
   "metadata": {
    "deletable": false,
    "editable": false
   },
   "source": [
    "<!-- END QUESTION -->\n",
    "\n",
    "**Question 1.5.** Use your resampled slopes to construct an 95% confidence interval for the true value of the slope. **(8 points)**\n",
    "\n",
    "<!--\n",
    "BEGIN QUESTION\n",
    "name: q1_5\n",
    "manual: false\n",
    "points:\n",
    " - 0\n",
    " - 0\n",
    " - 8\n",
    "-->"
   ]
  },
  {
   "cell_type": "code",
   "execution_count": 196,
   "id": "538aceb2",
   "metadata": {
    "ExecuteTime": {
     "end_time": "2018-04-11T12:05:53.077324Z",
     "start_time": "2018-04-11T12:05:53.072310Z"
    },
    "deletable": false
   },
   "outputs": [
    {
     "name": "stdout",
     "output_type": "stream",
     "text": [
      "95% confidence interval for slope: [0.609517, 0.827718]\n"
     ]
    }
   ],
   "source": [
    "lower_end = percentile(2.5, resampled_slopes)\n",
    "upper_end = percentile(97.5, resampled_slopes)\n",
    "print(\"95% confidence interval for slope: [{:g}, {:g}]\".format(lower_end, upper_end))"
   ]
  },
  {
   "cell_type": "code",
   "execution_count": 197,
   "id": "63260233",
   "metadata": {
    "deletable": false,
    "editable": false
   },
   "outputs": [
    {
     "data": {
      "text/html": [
       "<p><strong><pre style='display: inline;'>q1_5</pre></strong> passed!</p>"
      ],
      "text/plain": [
       "q1_5 results: All test cases passed!"
      ]
     },
     "execution_count": 197,
     "metadata": {},
     "output_type": "execute_result"
    }
   ],
   "source": [
    "grader.check(\"q1_5\")"
   ]
  },
  {
   "cell_type": "markdown",
   "id": "3cf6374c",
   "metadata": {
    "deletable": false,
    "editable": false
   },
   "source": [
    "<!-- BEGIN QUESTION -->\n",
    "\n",
    "**Question 1.6.** Based on your confidence interval, would you accept or reject the null hypothesis that the true slope is 0?  Why?  What p-value cutoff are you using? **(8 points)**\n",
    "\n",
    "*Hint*: Read the introduction of this homework!\n",
    "\n",
    "<!--\n",
    "BEGIN QUESTION\n",
    "name: q1_6\n",
    "manual: true\n",
    "-->"
   ]
  },
  {
   "cell_type": "markdown",
   "id": "c62a7b7e",
   "metadata": {},
   "source": [
    "Reject the null, as the test statistic of 0 is not in range of our conifdence interval, we had to use a p value cutoff of 0.5\n"
   ]
  },
  {
   "cell_type": "markdown",
   "id": "e9178d68",
   "metadata": {
    "deletable": false,
    "editable": false
   },
   "source": [
    "<!-- END QUESTION -->\n",
    "\n",
    "<!-- BEGIN QUESTION -->\n",
    "\n",
    "**Question 1.7.** What do you think the true slope is? You do not need an exact number. How confident are you of this estimate? **(8 points)**\n",
    "\n",
    "*Hint:* Can you provide an interval that you think the true slope falls in?\n",
    "\n",
    "<!--\n",
    "BEGIN QUESTION\n",
    "name: q1_7\n",
    "manual: true\n",
    "-->"
   ]
  },
  {
   "cell_type": "markdown",
   "id": "87bc274b",
   "metadata": {},
   "source": [
    "The true slope would be 0.60 and 0.80 as the confidence interval is about 95% which shows around the range from 39 to 53."
   ]
  },
  {
   "cell_type": "markdown",
   "id": "4412c303",
   "metadata": {},
   "source": [
    "<!-- END QUESTION -->\n",
    "\n",
    "\n",
    "\n",
    "## 2. Finding the Bootstrap Prediction Interval"
   ]
  },
  {
   "cell_type": "markdown",
   "id": "786773b6",
   "metadata": {},
   "source": [
    "Suppose we're visiting Point Reyes and stumble upon some Snowy Plover eggs; we'd like to know how heavy they'll be once they hatch. In other words, we want to use our regression line to make predictions about a bird's weight based on the weight of the corresponding egg.\n",
    "\n",
    "However, just as we're uncertain about the slope of the true regression line, we're also uncertain about the predictions made based on the true regression line."
   ]
  },
  {
   "cell_type": "markdown",
   "id": "45772e4f",
   "metadata": {
    "deletable": false,
    "editable": false
   },
   "source": [
    "**Question 2.1.** Define the function `fitted_value`.  It should take in four arguments:\n",
    "\n",
    "1. `table`: a table like `birds`.  We'll be predicting the values in the second column using the first.\n",
    "2. `x_col`: the name of our x-column within the input `table`\n",
    "3. `y_col`: the name of our y-column within the input `table`\n",
    "2. `given_x`: a number, the value of the predictor variable for which we'd like to make a prediction.\n",
    "  \n",
    "The function should return the line’s prediction for the given x. **(8 points)**\n",
    "\n",
    "*Hint:* Make sure to use the `fit_line` function you defined in Question 1.3.\n",
    "\n",
    "<!--\n",
    "BEGIN QUESTION\n",
    "name: q2_1\n",
    "manual: false\n",
    "points:\n",
    " - 0\n",
    " - 8\n",
    "-->"
   ]
  },
  {
   "cell_type": "code",
   "execution_count": 198,
   "id": "4adb35e1",
   "metadata": {
    "ExecuteTime": {
     "end_time": "2018-04-11T12:05:53.935846Z",
     "start_time": "2018-04-11T12:05:53.927826Z"
    },
    "for_assignment_type": "solution"
   },
   "outputs": [
    {
     "data": {
      "text/plain": [
       "5.689850497215146"
      ]
     },
     "execution_count": 198,
     "metadata": {},
     "output_type": "execute_result"
    }
   ],
   "source": [
    "def fitted_value(table, x_col, y_col, given_x):\n",
    "    line = fit_line(table, x_col, y_col)\n",
    "    slope = line.item(0)\n",
    "    intercept = line.item(1)\n",
    "    return slope * given_x + intercept\n",
    "\n",
    "# Here's an example of how fitted_value is used. The code below\n",
    "# computes the prediction for the bird weight, in grams, based on\n",
    "# an egg weight of 8 grams.\n",
    "egg_weight_eight = fitted_value(birds, \"Egg Weight\", \"Bird Weight\", 8)\n",
    "egg_weight_eight"
   ]
  },
  {
   "cell_type": "code",
   "execution_count": 199,
   "id": "d8ad3d1c",
   "metadata": {
    "deletable": false,
    "editable": false
   },
   "outputs": [
    {
     "data": {
      "text/html": [
       "<p><strong><pre style='display: inline;'>q2_1</pre></strong> passed!</p>"
      ],
      "text/plain": [
       "q2_1 results: All test cases passed!"
      ]
     },
     "execution_count": 199,
     "metadata": {},
     "output_type": "execute_result"
    }
   ],
   "source": [
    "grader.check(\"q2_1\")"
   ]
  },
  {
   "cell_type": "markdown",
   "id": "744ea392",
   "metadata": {
    "deletable": false,
    "editable": false
   },
   "source": [
    "**Question 2.2.** Raymond, the resident Snowy Plover expert at Point Reyes, tells us that the egg he has been carefully observing has a weight of 9 grams. Using `fitted_value` above, assign the variable `experts_egg` to the predicted bird weight for Raymond's egg. \n",
    "\n",
    "<!--\n",
    "BEGIN QUESTION\n",
    "name: q2_2\n",
    "manual: false\n",
    "points:\n",
    " - 0\n",
    " - 8\n",
    "-->"
   ]
  },
  {
   "cell_type": "code",
   "execution_count": 200,
   "id": "df9fb00e",
   "metadata": {
    "ExecuteTime": {
     "end_time": "2018-04-11T12:05:54.430725Z",
     "start_time": "2018-04-11T12:05:54.424720Z"
    },
    "deletable": false
   },
   "outputs": [
    {
     "data": {
      "text/plain": [
       "6.408365842108825"
      ]
     },
     "execution_count": 200,
     "metadata": {},
     "output_type": "execute_result"
    }
   ],
   "source": [
    "experts_egg = fitted_value(birds, \"Egg Weight\", \"Bird Weight\", 9)\n",
    "experts_egg"
   ]
  },
  {
   "cell_type": "code",
   "execution_count": 201,
   "id": "5a947c38",
   "metadata": {
    "deletable": false,
    "editable": false
   },
   "outputs": [
    {
     "data": {
      "text/html": [
       "<p><strong><pre style='display: inline;'>q2_2</pre></strong> passed!</p>"
      ],
      "text/plain": [
       "q2_2 results: All test cases passed!"
      ]
     },
     "execution_count": 201,
     "metadata": {},
     "output_type": "execute_result"
    }
   ],
   "source": [
    "grader.check(\"q2_2\")"
   ]
  },
  {
   "cell_type": "code",
   "execution_count": 202,
   "id": "3602e1fe",
   "metadata": {
    "scrolled": true
   },
   "outputs": [
    {
     "data": {
      "text/plain": [
       "44"
      ]
     },
     "execution_count": 202,
     "metadata": {},
     "output_type": "execute_result"
    }
   ],
   "source": [
    "# Let's look at the number of rows in the birds table.\n",
    "birds.num_rows"
   ]
  },
  {
   "cell_type": "markdown",
   "id": "0a8ad338",
   "metadata": {},
   "source": [
    "A fellow parkgoer raises the following objection to your prediction:\n",
    "\n",
    "> \"Your prediction depends on your sample of 44 birds.  Wouldn't your prediction change if you had a different sample of 44 birds?\"\n",
    "\n",
    "Having read section [16.3](https://inferentialthinking.com/chapters/16/3/Prediction_Intervals.html) of the textbook, you know just the response! Had the sample been different, the regression line would have been different too. This would ultimately result in a different prediction. To see how good our prediction is, we must get a sense of how variable the prediction can be."
   ]
  },
  {
   "cell_type": "markdown",
   "id": "c1affa3d",
   "metadata": {
    "deletable": false,
    "editable": false
   },
   "source": [
    "**Question 2.3.** Define a function `compute_resampled_line` that takes in a table `tbl`and two column names, `x_col` and `y_col`, and returns an array containing the parameters of the best fit line (slope and intercept) for one bootstrapped resample of the table.\n",
    "\n",
    "<!--\n",
    "BEGIN QUESTION\n",
    "name: q2_3\n",
    "manual: false\n",
    "points:\n",
    " - 0\n",
    " - 8\n",
    "-->"
   ]
  },
  {
   "cell_type": "code",
   "execution_count": 203,
   "id": "dc27aec5",
   "metadata": {},
   "outputs": [],
   "source": [
    "def compute_resampled_line(tbl, x_col, y_col):\n",
    "    resample = tbl.sample()\n",
    "    resampled_line = fit_line(resample, x_col, y_col)\n",
    "    return resampled_line"
   ]
  },
  {
   "cell_type": "code",
   "execution_count": 204,
   "id": "07687720",
   "metadata": {
    "deletable": false,
    "editable": false
   },
   "outputs": [
    {
     "data": {
      "text/html": [
       "<p><strong><pre style='display: inline;'>q2_3</pre></strong> passed!</p>"
      ],
      "text/plain": [
       "q2_3 results: All test cases passed!"
      ]
     },
     "execution_count": 204,
     "metadata": {},
     "output_type": "execute_result"
    }
   ],
   "source": [
    "grader.check(\"q2_3\")"
   ]
  },
  {
   "cell_type": "markdown",
   "id": "23266642",
   "metadata": {},
   "source": [
    "**Run** the following cell below in order to define the function `bootstrap_lines`.  It takes in four arguments:\n",
    "1. `tbl`: a table like `birds`\n",
    "2. `x_col`: the name of our x-column within the input `tbl`\n",
    "3. `y_col`: the name of our y-column within the input `tbl`\n",
    "4. `num_bootstraps`: an integer, a number of bootstraps to run.\n",
    "\n",
    "It returns a *table* with one row for each bootstrap resample and the following two columns:\n",
    "1. `Slope`: the bootstrapped slopes \n",
    "2. `Intercept`: the corresponding bootstrapped intercepts "
   ]
  },
  {
   "cell_type": "code",
   "execution_count": 205,
   "id": "bd19e61c",
   "metadata": {
    "ExecuteTime": {
     "end_time": "2018-04-11T12:05:55.698074Z",
     "start_time": "2018-04-11T12:05:55.243866Z"
    },
    "for_assignment_type": "solution"
   },
   "outputs": [
    {
     "data": {
      "text/html": [
       "<table border=\"1\" class=\"dataframe\">\n",
       "    <thead>\n",
       "        <tr>\n",
       "            <th>Slope</th> <th>Intercept</th>\n",
       "        </tr>\n",
       "    </thead>\n",
       "    <tbody>\n",
       "        <tr>\n",
       "            <td>0.728273</td> <td>-0.13622 </td>\n",
       "        </tr>\n",
       "        <tr>\n",
       "            <td>0.760694</td> <td>-0.382064</td>\n",
       "        </tr>\n",
       "        <tr>\n",
       "            <td>0.651099</td> <td>0.459375 </td>\n",
       "        </tr>\n",
       "        <tr>\n",
       "            <td>0.701216</td> <td>0.118751 </td>\n",
       "        </tr>\n",
       "        <tr>\n",
       "            <td>0.686703</td> <td>0.215138 </td>\n",
       "        </tr>\n",
       "        <tr>\n",
       "            <td>0.725948</td> <td>-0.114515</td>\n",
       "        </tr>\n",
       "        <tr>\n",
       "            <td>0.701218</td> <td>0.0884117</td>\n",
       "        </tr>\n",
       "        <tr>\n",
       "            <td>0.852028</td> <td>-1.1622  </td>\n",
       "        </tr>\n",
       "        <tr>\n",
       "            <td>0.813816</td> <td>-0.823711</td>\n",
       "        </tr>\n",
       "        <tr>\n",
       "            <td>0.737851</td> <td>-0.221467</td>\n",
       "        </tr>\n",
       "    </tbody>\n",
       "</table>\n",
       "<p>... (990 rows omitted)</p>"
      ],
      "text/plain": [
       "Slope    | Intercept\n",
       "0.728273 | -0.13622\n",
       "0.760694 | -0.382064\n",
       "0.651099 | 0.459375\n",
       "0.701216 | 0.118751\n",
       "0.686703 | 0.215138\n",
       "0.725948 | -0.114515\n",
       "0.701218 | 0.0884117\n",
       "0.852028 | -1.1622\n",
       "0.813816 | -0.823711\n",
       "0.737851 | -0.221467\n",
       "... (990 rows omitted)"
      ]
     },
     "execution_count": 205,
     "metadata": {},
     "output_type": "execute_result"
    }
   ],
   "source": [
    "# Just run this cell\n",
    "def bootstrap_lines(tbl, x_col, y_col, num_bootstraps):\n",
    "    resampled_slopes = make_array()\n",
    "    resampled_intercepts = make_array() \n",
    "    for i in np.arange(num_bootstraps): \n",
    "        resampled_line = compute_resampled_line(tbl, x_col, y_col) \n",
    "        resampled_slope = resampled_line.item(0) \n",
    "        resampled_intercept = resampled_line.item(1) \n",
    "        resampled_slopes = np.append(resampled_slopes,resampled_slope)\n",
    "        resampled_intercepts = np.append(resampled_intercepts,resampled_intercept)\n",
    "    tbl_lines = Table().with_columns('Slope', resampled_slopes, 'Intercept', resampled_intercepts)\n",
    "    return tbl_lines\n",
    "\n",
    "regression_lines = bootstrap_lines(birds, \"Egg Weight\", \"Bird Weight\", 1000)\n",
    "regression_lines"
   ]
  },
  {
   "cell_type": "markdown",
   "id": "bc13faa3",
   "metadata": {
    "deletable": false,
    "editable": false
   },
   "source": [
    "<!-- BEGIN QUESTION -->\n",
    "\n",
    "**Question 2.4.** Create an array called `predictions_for_eight` that contains the predicted bird weights based on an egg of weight 8 grams for each regression line in `regression_lines`. **(8 points)**\n",
    "\n",
    "<!--\n",
    "BEGIN QUESTION\n",
    "name: q2_4\n",
    "manual: true\n",
    "image: true\n",
    "-->"
   ]
  },
  {
   "cell_type": "code",
   "execution_count": 206,
   "id": "caebcf01",
   "metadata": {
    "ExecuteTime": {
     "end_time": "2018-04-11T12:05:55.991855Z",
     "start_time": "2018-04-11T12:05:55.759236Z"
    },
    "deletable": false,
    "scrolled": true
   },
   "outputs": [
    {
     "data": {
      "image/png": "[encoded data removed]",
      "text/plain": [
       "<Figure size 432x288 with 1 Axes>"
      ]
     },
     "metadata": {},
     "output_type": "display_data"
    }
   ],
   "source": [
    "predictions_for_eight = regression_lines.column(0) * 8 + regression_lines.column(1)\n",
    "\n",
    "# This will make a histogram of your predictions:\n",
    "table_of_predictions = Table().with_column('Predictions at Egg Weight=8', predictions_for_eight)\n",
    "table_of_predictions.hist('Predictions at Egg Weight=8', bins=20)"
   ]
  },
  {
   "cell_type": "code",
   "execution_count": 207,
   "id": "68b06c6c",
   "metadata": {
    "deletable": false,
    "editable": false
   },
   "outputs": [
    {
     "data": {
      "text/html": [
       "<p><strong><pre style='display: inline;'>q2_4</pre></strong> passed!</p>"
      ],
      "text/plain": [
       "q2_4 results: All test cases passed!"
      ]
     },
     "execution_count": 207,
     "metadata": {},
     "output_type": "execute_result"
    }
   ],
   "source": [
    "grader.check(\"q2_4\")"
   ]
  },
  {
   "cell_type": "markdown",
   "id": "a959f5d4",
   "metadata": {
    "deletable": false,
    "editable": false
   },
   "source": [
    "<!-- END QUESTION -->\n",
    "\n",
    "**Question 2.5.** Create an approximate 95% confidence interval for these predictions. **(6 points)**\n",
    "\n",
    "<!--\n",
    "BEGIN QUESTION\n",
    "name: q2_5\n",
    "manual: false\n",
    "points:\n",
    " - 0\n",
    " - 0\n",
    " - 6\n",
    "-->"
   ]
  },
  {
   "cell_type": "code",
   "execution_count": 208,
   "id": "eeaea0cb",
   "metadata": {
    "ExecuteTime": {
     "end_time": "2018-04-11T12:05:56.097136Z",
     "start_time": "2018-04-11T12:05:56.089117Z"
    },
    "deletable": false,
    "scrolled": true
   },
   "outputs": [
    {
     "name": "stdout",
     "output_type": "stream",
     "text": [
      "95% Confidence interval for predictions for x=8: ( 5.6289446236689535 , 5.7612087614927 )\n"
     ]
    }
   ],
   "source": [
    "lower_bound = percentile(2.5, predictions_for_eight)\n",
    "upper_bound = percentile(97.5, predictions_for_eight)\n",
    "\n",
    "print('95% Confidence interval for predictions for x=8: (', lower_bound,\",\", upper_bound, ')')"
   ]
  },
  {
   "cell_type": "code",
   "execution_count": 209,
   "id": "fe6eac59",
   "metadata": {
    "deletable": false,
    "editable": false
   },
   "outputs": [
    {
     "data": {
      "text/html": [
       "<p><strong><pre style='display: inline;'>q2_5</pre></strong> passed!</p>"
      ],
      "text/plain": [
       "q2_5 results: All test cases passed!"
      ]
     },
     "execution_count": 209,
     "metadata": {},
     "output_type": "execute_result"
    }
   ],
   "source": [
    "grader.check(\"q2_5\")"
   ]
  },
  {
   "cell_type": "markdown",
   "id": "6d15a8d5",
   "metadata": {
    "deletable": false,
    "editable": false
   },
   "source": [
    "**Question 2.6.** Set `plover_statements` to an array of integer(s) that correspond to statement(s) that are true. **(6 points)**\n",
    "\n",
    "1. The 95% confidence interval covers 95% of the bird weights for eggs that had a weight of eight grams in `birds`.\n",
    "\n",
    "2. The 95% confidence interval quantifies the uncertainty in our estimate of what the true line would predict.\n",
    "\n",
    "3. The 95% confidence interval gives a sense of how much actual weights differ from your prediction.\n",
    "\n",
    "<!--\n",
    "BEGIN QUESTION\n",
    "name: q2_6\n",
    "manual: false\n",
    "points:\n",
    " - 0\n",
    " - 3\n",
    " - 3\n",
    "-->"
   ]
  },
  {
   "cell_type": "code",
   "execution_count": 210,
   "id": "12fb4002",
   "metadata": {
    "ExecuteTime": {
     "end_time": "2018-04-11T12:05:56.479878Z",
     "start_time": "2018-04-11T12:05:56.476869Z"
    },
    "deletable": false
   },
   "outputs": [],
   "source": [
    "plover_statements = make_array(1, 2)"
   ]
  },
  {
   "cell_type": "code",
   "execution_count": 211,
   "id": "e5bbe741",
   "metadata": {
    "deletable": false,
    "editable": false
   },
   "outputs": [
    {
     "data": {
      "text/html": [
       "<p><strong><pre style='display: inline;'>q2_6</pre></strong> passed!</p>"
      ],
      "text/plain": [
       "q2_6 results: All test cases passed!"
      ]
     },
     "execution_count": 211,
     "metadata": {},
     "output_type": "execute_result"
    }
   ],
   "source": [
    "grader.check(\"q2_6\")"
   ]
  },
  {
   "cell_type": "markdown",
   "id": "5f959a7c",
   "metadata": {},
   "source": [
    "You're done with Homework 10!  \n",
    "\n",
    "**Important submission steps:** \n",
    "1. Run the tests and verify that they all pass.\n",
    "2. Choose **Save Notebook** from the **File** menu, then **run the final cell**. \n",
    "3. Click the link to download the zip file.\n",
    "4. Go to [Gradescope](https://www.gradescope.com/courses/397747) and submit the zip file to the corresponding assignment. The name of this assignment is \"HW 10 Autograder\".\n",
    "\n",
    "**It is your responsibility to make sure your work is saved before running the last cell.**"
   ]
  },
  {
   "cell_type": "markdown",
   "id": "5b99937f",
   "metadata": {
    "deletable": false,
    "editable": false
   },
   "source": [
    "### ---\n",
    "\n",
    "To double-check your work, the cell below will rerun all of the autograder tests."
   ]
  },
  {
   "cell_type": "code",
   "execution_count": 212,
   "id": "c408482e",
   "metadata": {
    "deletable": false,
    "editable": false
   },
   "outputs": [
    {
     "data": {
      "text/plain": [
       "q1_2 results: All test cases passed!\n",
       "\n",
       "q1_3 results: All test cases passed!\n",
       "\n",
       "q1_4 results: All test cases passed!\n",
       "\n",
       "q1_5 results: All test cases passed!\n",
       "\n",
       "q2_1 results: All test cases passed!\n",
       "\n",
       "q2_2 results: All test cases passed!\n",
       "\n",
       "q2_3 results: All test cases passed!\n",
       "\n",
       "q2_4 results: All test cases passed!\n",
       "\n",
       "q2_5 results: All test cases passed!\n",
       "\n",
       "q2_6 results: All test cases passed!"
      ]
     },
     "execution_count": 212,
     "metadata": {},
     "output_type": "execute_result"
    }
   ],
   "source": [
    "grader.check_all()"
   ]
  },
  {
   "cell_type": "markdown",
   "id": "6fc5bf76",
   "metadata": {
    "deletable": false,
    "editable": false
   },
   "source": [
    "## Submission\n",
    "\n",
    "Make sure you have run all cells in your notebook in order before running the cell below, so that all images/graphs appear in the output. The cell below will generate a zip file for you to submit. **Please save before exporting!**"
   ]
  },
  {
   "cell_type": "code",
   "execution_count": 213,
   "id": "faa2fab6",
   "metadata": {
    "deletable": false,
    "editable": false
   },
   "outputs": [
    {
     "data": {
      "text/html": [
       "\n",
       "            <p>Your submission has been exported. Click <a href=\"hw10_2022_07_30T19_46_17_032391.zip\" download=\"hw10_2022_07_30T19_46_17_032391.zip\" target=\"_blank\">here</a>\n",
       "            to download the zip file.</p>\n",
       "            "
      ],
      "text/plain": [
       "<IPython.core.display.HTML object>"
      ]
     },
     "metadata": {},
     "output_type": "display_data"
    }
   ],
   "source": [
    "# Save your notebook first, then run this cell to export your submission.\n",
    "grader.export(pdf=False)"
   ]
  },
  {
   "cell_type": "markdown",
   "id": "4ba24439",
   "metadata": {},
   "source": [
    " "
   ]
  }
 ],
 "metadata": {
  "kernelspec": {
   "display_name": "Python 3 (ipykernel)",
   "language": "python",
   "name": "python3"
  },
  "language_info": {
   "codemirror_mode": {
    "name": "ipython",
    "version": 3
   },
   "file_extension": ".py",
   "mimetype": "text/x-python",
   "name": "python",
   "nbconvert_exporter": "python",
   "pygments_lexer": "ipython3",
   "version": "3.9.13"
  }
 },
 "nbformat": 4,
 "nbformat_minor": 5
}
